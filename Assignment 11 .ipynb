{
 "cells": [
  {
   "cell_type": "markdown",
   "id": "458c8d16-1be1-4302-84f1-a9d71faf7a98",
   "metadata": {},
   "source": [
    "## Assignment 11"
   ]
  },
  {
   "cell_type": "code",
   "execution_count": 6,
   "id": "d6c32a83-f4be-4ec4-a7f7-348cbc3a26f0",
   "metadata": {},
   "outputs": [
    {
     "name": "stdout",
     "output_type": "stream",
     "text": [
      "leetcode\n",
      "\n",
      "s\n"
     ]
    }
   ],
   "source": [
    "## Q1\n",
    "def makeGood(s: str) -> str:\n",
    "    stack = []\n",
    "    for ch in s:\n",
    "        if stack and stack[-1].lower() == ch.lower() and stack[-1] != ch:\n",
    "            stack.pop()\n",
    "        else:\n",
    "            stack.append(ch)\n",
    "    return ''.join(stack)\n",
    "\n",
    "s = \"leEeetcode\"\n",
    "print(makeGood(s))  # Outputs: \"leetcode\"\n",
    "\n",
    "s = \"abBAcC\"\n",
    "print(makeGood(s))  # Outputs: \"\"\n",
    "\n",
    "s = \"s\"\n",
    "print(makeGood(s))  # Outputs: \"s\"\n"
   ]
  },
  {
   "cell_type": "code",
   "execution_count": null,
   "id": "b62a0f6d-1192-4891-ab3b-0f378c2b4667",
   "metadata": {},
   "outputs": [],
   "source": []
  },
  {
   "cell_type": "code",
   "execution_count": 7,
   "id": "2e83f64b-72d4-4aab-a43f-99874d8d915a",
   "metadata": {},
   "outputs": [
    {
     "name": "stdout",
     "output_type": "stream",
     "text": [
      "ca\n"
     ]
    }
   ],
   "source": [
    "## Q2\n",
    "def removeDuplicates(s: str) -> str:\n",
    "    stack = []\n",
    "    for ch in s:\n",
    "        if stack and stack[-1] == ch:\n",
    "            stack.pop()\n",
    "        else:\n",
    "            stack.append(ch)\n",
    "    return ''.join(stack)\n",
    "\n",
    "s = \"abbaca\"\n",
    "print(removeDuplicates(s))  \n"
   ]
  },
  {
   "cell_type": "code",
   "execution_count": null,
   "id": "02c4a77a-7684-4fcf-8d60-214f41f0e867",
   "metadata": {},
   "outputs": [],
   "source": []
  },
  {
   "cell_type": "code",
   "execution_count": 8,
   "id": "2b78d439-8a4c-49aa-b851-448fa291399b",
   "metadata": {},
   "outputs": [
    {
     "name": "stdout",
     "output_type": "stream",
     "text": [
      "1\n",
      "1\n",
      "1\n",
      "2\n",
      "1\n",
      "4\n",
      "6\n"
     ]
    }
   ],
   "source": [
    "## Q3\n",
    "class StockSpanner:\n",
    "\n",
    "    def __init__(self):\n",
    "        self.stack = []\n",
    "\n",
    "    def next(self, price: int) -> int:\n",
    "        span = 1\n",
    "        while self.stack and self.stack[-1][0] <= price:\n",
    "            span += self.stack.pop()[1]\n",
    "        self.stack.append((price, span))\n",
    "        return span\n",
    "\n",
    "s = StockSpanner()\n",
    "print(s.next(100))  # outputs: 1\n",
    "print(s.next(80))   # outputs: 1\n",
    "print(s.next(60))   # outputs: 1\n",
    "print(s.next(70))   # outputs: 2\n",
    "print(s.next(60))   # outputs: 1\n",
    "print(s.next(75))   # outputs: 4\n",
    "print(s.next(85))   # outputs: 6\n"
   ]
  },
  {
   "cell_type": "code",
   "execution_count": null,
   "id": "1e2ae818-9f7a-40ca-8566-4a70bd7e023d",
   "metadata": {},
   "outputs": [],
   "source": []
  },
  {
   "cell_type": "code",
   "execution_count": 9,
   "id": "86c54bfb-1512-4c8d-9eea-e3bc87b2a726",
   "metadata": {},
   "outputs": [
    {
     "name": "stdout",
     "output_type": "stream",
     "text": [
      "5\n",
      "8\n"
     ]
    }
   ],
   "source": [
    "## Q4\n",
    "import heapq\n",
    "\n",
    "def timeToBuyTickets(tickets, k):\n",
    "    queue = []\n",
    "    for i, t in enumerate(tickets):\n",
    "        # use negative numbers to simulate a max heap (Python's heapq is a min heap)\n",
    "        heapq.heappush(queue, (-t, -i))\n",
    "\n",
    "    time = 0\n",
    "    while True:\n",
    "        t, i = heapq.heappop(queue)\n",
    "        time += 1\n",
    "        if i == -k and t == -1:  # if we reach the target person and they have no more tickets\n",
    "            return time\n",
    "        t += 1\n",
    "        heapq.heappush(queue, (t, i))  # push the person back to queue\n",
    "\n",
    "print(timeToBuyTickets([2,3,2], 2))  # outputs: 5\n",
    "print(timeToBuyTickets([5,1,1,1], 0))  # outputs: 8\n",
    "       "
   ]
  },
  {
   "cell_type": "code",
   "execution_count": null,
   "id": "00494e96-415f-4e48-a37d-3ab764f6fae0",
   "metadata": {},
   "outputs": [],
   "source": []
  },
  {
   "cell_type": "code",
   "execution_count": 10,
   "id": "89a889e6-0ec0-4d94-959a-a93d2e24f4ec",
   "metadata": {},
   "outputs": [
    {
     "name": "stdout",
     "output_type": "stream",
     "text": [
      "20\n",
      "40\n",
      "0\n",
      "32\n"
     ]
    }
   ],
   "source": [
    "## Q5\n",
    "class ProductOfNumbers:\n",
    "\n",
    "    def __init__(self):\n",
    "        self.products = [1]\n",
    "\n",
    "    def add(self, num: int) -> None:\n",
    "        if num == 0:\n",
    "            self.products = [1]\n",
    "        else:\n",
    "            self.products.append(self.products[-1] * num)\n",
    "\n",
    "    def getProduct(self, k: int) -> int:\n",
    "        if k >= len(self.products):\n",
    "            return 0\n",
    "        return self.products[-1] // self.products[-k-1]\n",
    "    \n",
    "productOfNumbers = ProductOfNumbers()\n",
    "productOfNumbers.add(3)\n",
    "productOfNumbers.add(0)\n",
    "productOfNumbers.add(2)\n",
    "productOfNumbers.add(5)\n",
    "productOfNumbers.add(4)\n",
    "print(productOfNumbers.getProduct(2))  # Output: 20\n",
    "print(productOfNumbers.getProduct(3))  # Output: 40\n",
    "print(productOfNumbers.getProduct(4))  # Output: 0\n",
    "productOfNumbers.add(8)\n",
    "print(productOfNumbers.getProduct(2))  # Output: 32\n"
   ]
  },
  {
   "cell_type": "code",
   "execution_count": null,
   "id": "af247ad5-e32b-4a42-9f8e-f512adbf6bcf",
   "metadata": {},
   "outputs": [],
   "source": []
  },
  {
   "cell_type": "code",
   "execution_count": 11,
   "id": "fbb6eea4-54f4-45c4-8c24-8e6b85f57734",
   "metadata": {},
   "outputs": [
    {
     "name": "stdout",
     "output_type": "stream",
     "text": [
      "10\n",
      "4\n"
     ]
    }
   ],
   "source": [
    "## Q6\n",
    "def largestRectangleArea(heights):\n",
    "    heights.append(0)  # Append 0 to the end to handle the edge case\n",
    "    stack = [-1]\n",
    "    max_area = 0\n",
    "    for i in range(len(heights)):\n",
    "        while heights[i] < heights[stack[-1]]:  # If this bar is lower than the stack top\n",
    "            h = heights[stack.pop()]  # Pop the height\n",
    "            w = i - stack[-1] - 1  # Calculate the width\n",
    "            max_area = max(max_area, h * w)\n",
    "        stack.append(i)  # Push this bar\n",
    "    heights.pop()  # Pop out the appended 0\n",
    "    return max_area\n",
    "\n",
    "heights = [2, 1, 5, 6, 2, 3]\n",
    "print(largestRectangleArea(heights))  # Outputs: 10\n",
    "\n",
    "heights = [2, 4]\n",
    "print(largestRectangleArea(heights))  # Outputs: 4\n",
    "\n"
   ]
  },
  {
   "cell_type": "code",
   "execution_count": null,
   "id": "e397237f-487f-4f41-ab7c-f33e38f85535",
   "metadata": {},
   "outputs": [],
   "source": []
  },
  {
   "cell_type": "code",
   "execution_count": 12,
   "id": "0e505380-ab58-46ed-85e1-ce11a5417d8f",
   "metadata": {},
   "outputs": [
    {
     "name": "stdout",
     "output_type": "stream",
     "text": [
      "[3, 3, 5, 5, 6, 7]\n",
      "[1]\n"
     ]
    }
   ],
   "source": [
    "## Q7\n",
    "from collections import deque\n",
    "\n",
    "def maxSlidingWindow(nums, k):\n",
    "    if not nums: return []\n",
    "    if k == 1: return nums\n",
    "    \n",
    "    def clean_deque(i):\n",
    "        if deq and deq[0] == i - k:  # remove indices of elements not from sliding window\n",
    "            deq.popleft()\n",
    "        while deq and nums[i] > nums[deq[-1]]:  # remove from deq indices of all elements which are smaller than current element nums[i]\n",
    "            deq.pop()\n",
    "\n",
    "    deq = deque()\n",
    "    max_idx = 0\n",
    "    for i in range(k):  # find max in the first window\n",
    "        clean_deque(i)\n",
    "        deq.append(i)\n",
    "        if nums[i] > nums[max_idx]:\n",
    "            max_idx = i\n",
    "    output = [nums[max_idx]]\n",
    "\n",
    "    for i in range(k, len(nums)):  # build output\n",
    "        clean_deque(i)  \n",
    "        deq.append(i)\n",
    "        output.append(nums[deq[0]])\n",
    "    return output\n",
    "\n",
    "nums = [1,3,-1,-3,5,3,6,7]\n",
    "k = 3\n",
    "print(maxSlidingWindow(nums, k))  # Outputs: [3, 3, 5, 5, 6, 7]\n",
    "\n",
    "nums = [1]\n",
    "k = 1\n",
    "print(maxSlidingWindow(nums, k))  # Outputs: [1]\n"
   ]
  },
  {
   "cell_type": "code",
   "execution_count": null,
   "id": "96181468-15bd-4d71-9b55-3f7e41bbf460",
   "metadata": {},
   "outputs": [],
   "source": []
  },
  {
   "cell_type": "code",
   "execution_count": 13,
   "id": "43e323a2-f695-4263-aa03-6716279e91bd",
   "metadata": {},
   "outputs": [
    {
     "name": "stdout",
     "output_type": "stream",
     "text": [
      "True\n",
      "True\n",
      "True\n",
      "False\n",
      "3\n",
      "True\n",
      "True\n",
      "True\n",
      "4\n"
     ]
    }
   ],
   "source": [
    "## Q8\n",
    "class MyCircularQueue:\n",
    "\n",
    "    def __init__(self, k: int):\n",
    "        self.queue = [None] * k\n",
    "        self.front = 0\n",
    "        self.rear = -1\n",
    "        self.size = 0\n",
    "        self.capacity = k\n",
    "\n",
    "    def enQueue(self, value: int) -> bool:\n",
    "        if self.isFull():\n",
    "            return False\n",
    "        self.rear = (self.rear + 1) % self.capacity\n",
    "        self.queue[self.rear] = value\n",
    "        self.size += 1\n",
    "        return True\n",
    "\n",
    "    def deQueue(self) -> bool:\n",
    "        if self.isEmpty():\n",
    "            return False\n",
    "        self.front = (self.front + 1) % self.capacity\n",
    "        self.size -= 1\n",
    "        return True\n",
    "\n",
    "    def Front(self) -> int:\n",
    "        if self.isEmpty():\n",
    "            return -1\n",
    "        return self.queue[self.front]\n",
    "\n",
    "    def Rear(self) -> int:\n",
    "        if self.isEmpty():\n",
    "            return -1\n",
    "        return self.queue[self.rear]\n",
    "\n",
    "    def isEmpty(self) -> bool:\n",
    "        return self.size == 0\n",
    "\n",
    "    def isFull(self) -> bool:\n",
    "        return self.size == self.capacity\n",
    "\n",
    "circular_queue = MyCircularQueue(3)\n",
    "print(circular_queue.enQueue(1))  # Output: True\n",
    "print(circular_queue.enQueue(2))  # Output: True\n",
    "print(circular_queue.enQueue(3))  # Output: True\n",
    "print(circular_queue.enQueue(4))  # Output: False (Queue is full)\n",
    "print(circular_queue.Rear())     # Output: 3\n",
    "print(circular_queue.isFull())   # Output: True\n",
    "print(circular_queue.deQueue())  # Output: True\n",
    "print(circular_queue.enQueue(4))  # Output: True\n",
    "print(circular_queue.Rear())     # Output: 4\n"
   ]
  },
  {
   "cell_type": "code",
   "execution_count": null,
   "id": "06ffa166-2b0c-4ec9-8169-b2d7a0fa8051",
   "metadata": {},
   "outputs": [],
   "source": []
  },
  {
   "cell_type": "code",
   "execution_count": null,
   "id": "9c543c09-dbcd-4d53-a090-985a453a797c",
   "metadata": {},
   "outputs": [],
   "source": []
  }
 ],
 "metadata": {
  "kernelspec": {
   "display_name": "Python 3 (ipykernel)",
   "language": "python",
   "name": "python3"
  },
  "language_info": {
   "codemirror_mode": {
    "name": "ipython",
    "version": 3
   },
   "file_extension": ".py",
   "mimetype": "text/x-python",
   "name": "python",
   "nbconvert_exporter": "python",
   "pygments_lexer": "ipython3",
   "version": "3.10.8"
  }
 },
 "nbformat": 4,
 "nbformat_minor": 5
}
