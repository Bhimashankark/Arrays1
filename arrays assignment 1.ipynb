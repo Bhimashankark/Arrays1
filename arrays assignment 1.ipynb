{
 "cells": [
  {
   "cell_type": "markdown",
   "id": "afb5ae9d-a191-4c98-a528-a7346588b1af",
   "metadata": {},
   "source": [
    "# ASSIGNMENT 1 ON ARRAYS"
   ]
  },
  {
   "cell_type": "markdown",
   "id": "777ba9d5-9821-4209-be4b-e7f81775d3d8",
   "metadata": {},
   "source": [
    "Q1)Given an array of integers nums and an integer target, return indices of the two numbers such that they add up to target.\n",
    "\n",
    "You may assume that each input would have exactly one solution, and you may not use the same element twice.\n",
    "\n",
    "You can return the answer in any order.\n",
    "\n",
    "**Example:**\n",
    "Input: nums = [2,7,11,15], target = 9\n",
    "Output0 [0,1]\n",
    "\n",
    "**Explanation:** Because nums[0] + nums[1] == 9, we return [0, 1][\n"
   ]
  },
  {
   "cell_type": "markdown",
   "id": "901e97d8-f63f-46fb-b3c8-9941504a8c88",
   "metadata": {},
   "source": [
    "To find the indices of two numbers in the given array that add up to the target, you can use a hash map (dictionary) to store the complement of each number as you iterate through the array. \n",
    "In this implementation, we iterate through the array once, which gives us a time complexity of O(n), where n is the length of the input array nums. The space complexity is also O(n) because, in the worst case, we may need to store all the elements of nums in the dictionary.\n"
   ]
  },
  {
   "cell_type": "code",
   "execution_count": 9,
   "id": "9aa2b7dc-dcf8-432f-9641-f7a93c5254e1",
   "metadata": {},
   "outputs": [
    {
     "name": "stdout",
     "output_type": "stream",
     "text": [
      "[0, 1]\n"
     ]
    }
   ],
   "source": [
    "# ANSWER :\n",
    "\n",
    "def twoSum(nums, target):\n",
    "    complements = {}\n",
    "    \n",
    "    for i, num in enumerate(nums):\n",
    "        complement = target - num\n",
    "        if complement in complements:\n",
    "            return [complements[complement], i]\n",
    "        else:\n",
    "            complements[num] = i\n",
    "    \n",
    "    return []\n",
    "\n",
    "# Example usage\n",
    "nums = [2, 7, 11, 15]\n",
    "target = 9\n",
    "result = twoSum(nums, target) # Output: [0, 1]\n",
    "print(result) \n"
   ]
  },
  {
   "cell_type": "code",
   "execution_count": null,
   "id": "d83f8e51-aacb-47b8-9a12-ec5dbbf14d5e",
   "metadata": {},
   "outputs": [],
   "source": []
  },
  {
   "cell_type": "markdown",
   "id": "032c4f26-f6ac-4c36-99cb-a7320ee5c975",
   "metadata": {},
   "source": [
    "Q2) Given an integer array nums and an integer val, remove all occurrences of val in nums in-place. The order of the elements may be changed. Then return the number of elements in nums which are not equal to val.\n",
    "\n",
    "Consider the number of elements in nums which are not equal to val be k, to get accepted, you need to do the following things:\n",
    "\n",
    "- Change the array nums such that the first k elements of nums contain the elements which are not equal to val. The remaining elements of nums are not important as well as the size of nums.\n",
    "- Return k.\n",
    "\n",
    "**Example :**\n",
    "Input: nums = [3,2,2,3], val = 3\n",
    "Output: 2, nums = [2,2,_*,_*]\n",
    "\n",
    "**Explanation:** Your function should return k = 2, with the first two elements of nums being 2. It does not matter what you leave beyond the returned k (hence they are underscores)["
   ]
  },
  {
   "cell_type": "markdown",
   "id": "f41b0084-7a90-4d3c-96b6-05dc249850f5",
   "metadata": {},
   "source": [
    "To solve this problem, we can use the Two Pointers technique. We maintain two pointers, i and j, where i represents the current index and j represents the index of the next available position to store a non-val element. We iterate through the array, and whenever we encounter a non-val element, we store it at index j and increment j. Finally, we return the value of j as the count of elements not equal to val\n",
    "In this implementation, we iterate through the array once, so the time complexity is O(n), where n is the length of the input array nums. The space complexity is O(1) since we are modifying the input array in-place and using only two additional pointers."
   ]
  },
  {
   "cell_type": "code",
   "execution_count": 11,
   "id": "2285a21d-aed3-4734-9050-7b73d5e34603",
   "metadata": {},
   "outputs": [
    {
     "name": "stdout",
     "output_type": "stream",
     "text": [
      "Count: 2\n",
      "Updated nums: [2, 2, 2, 3]\n"
     ]
    }
   ],
   "source": [
    "# ANSWER :\n",
    "def removeElement(nums, val):\n",
    "    i = 0\n",
    "    j = 0\n",
    "    \n",
    "    while i < len(nums):\n",
    "        if nums[i] != val:\n",
    "            nums[j] = nums[i]\n",
    "            j += 1\n",
    "        i += 1\n",
    "    \n",
    "    return j\n",
    "\n",
    "# Example usage\n",
    "nums = [3, 2, 2, 3]\n",
    "val = 3\n",
    "count = removeElement(nums, val)\n",
    "print(\"Count:\", count)  # Output: 2\n",
    "print(\"Updated nums:\", nums)  # Output: [2, 2, _, _]\n"
   ]
  },
  {
   "cell_type": "code",
   "execution_count": null,
   "id": "f39c03e6-2854-4766-b6b2-d7b5a5098dc2",
   "metadata": {},
   "outputs": [],
   "source": []
  },
  {
   "cell_type": "markdown",
   "id": "01ff5f66-dae6-446f-8637-e8ddc6f03a6d",
   "metadata": {},
   "source": [
    "Q3) Given a sorted array of distinct integers and a target value, return the index if the target is found. If not, return the index where it would be if it were inserted in order.\n",
    "\n",
    "You must write an algorithm with O(log n) runtime complexity.\n",
    "\n",
    "**Example 1:**\n",
    "Input: nums = [1,3,5,6], target = 5\n",
    "\n",
    "Output: 2\n"
   ]
  },
  {
   "cell_type": "markdown",
   "id": "3c394ff3-9414-43b0-abc9-7333095dec10",
   "metadata": {},
   "source": [
    "To solve this problem with a runtime complexity of O(log n), we can use the Binary Search algorithm. Since the given array is sorted, we can compare the target value with the middle element of the array and adjust the search range accordingly.\n",
    "In this implementation, we perform binary search to find the target value or determine the correct insertion position. The search range is halved at each step, so the time complexity is O(log n), where n is the length of the input array nums. The space complexity is O(1) since we are using only a constant amount of additional memory."
   ]
  },
  {
   "cell_type": "code",
   "execution_count": 12,
   "id": "c26d08ab-525e-4b96-842b-942c0d9893f7",
   "metadata": {},
   "outputs": [
    {
     "name": "stdout",
     "output_type": "stream",
     "text": [
      "2\n"
     ]
    }
   ],
   "source": [
    "#ANSWER : \n",
    "def searchInsert(nums, target):\n",
    "    left = 0\n",
    "    right = len(nums) - 1\n",
    "    \n",
    "    while left <= right:\n",
    "        mid = (left + right) // 2\n",
    "        if nums[mid] == target:\n",
    "            return mid\n",
    "        elif nums[mid] < target:\n",
    "            left = mid + 1\n",
    "        else:\n",
    "            right = mid - 1\n",
    "    \n",
    "    return left\n",
    "\n",
    "# Example usage\n",
    "nums = [1, 3, 5, 6]\n",
    "target = 5\n",
    "index = searchInsert(nums, target)\n",
    "print(index)  # Output: 2\n"
   ]
  },
  {
   "cell_type": "code",
   "execution_count": null,
   "id": "be9df8cd-9bdb-4850-926f-aea5ea8886f9",
   "metadata": {},
   "outputs": [],
   "source": []
  },
  {
   "cell_type": "markdown",
   "id": "74ccce7f-22f1-459f-b7b6-b9454201015f",
   "metadata": {},
   "source": [
    "Q4) You are given a large integer represented as an integer array digits, where each digits[i] is the ith digit of the integer. The digits are ordered from most significant to least significant in left-to-right order. The large integer does not contain any leading 0's.\n",
    "\n",
    "Increment the large integer by one and return the resulting array of digits.\n",
    "\n",
    "**Example 1:**\n",
    "Input: digits = [1,2,3]\n",
    "Output: [1,2,4]\n",
    "\n",
    "**Explanation:** The array represents the integer 123.\n",
    "\n",
    "Incrementing by one gives 123 + 1 = 124.\n",
    "Thus, the result should be [1,2,4].\n"
   ]
  },
  {
   "cell_type": "markdown",
   "id": "6f145771-36a2-48e6-94cc-480a6a29f5fe",
   "metadata": {},
   "source": [
    "To increment the given large integer represented as an array of digits, we can start from the least significant digit (last element) and perform the addition operation. We add 1 to the rightmost digit and propagate the carry if necessary. If there is no carry after adding 1 to the least significant digit, we return the updated array. Otherwise, we continue the carry propagation until there are no more digits or the carry becomes zero.\n",
    "n this implementation, we iterate through the array once, so the time complexity is O(n), where n is the length of the input array digits. The space complexity is also O(n) because in the worst case, when all digits are 9 and a carry is propagated to the most significant digit, we need to insert an additional digit at the beginning of the array."
   ]
  },
  {
   "cell_type": "code",
   "execution_count": 13,
   "id": "0de9e06c-fde2-4193-8ffd-287c97375d41",
   "metadata": {},
   "outputs": [
    {
     "name": "stdout",
     "output_type": "stream",
     "text": [
      "[1, 2, 4]\n"
     ]
    }
   ],
   "source": [
    "#ANSWER :\n",
    "def plusOne(digits):\n",
    "    n = len(digits)\n",
    "    carry = 1\n",
    "    \n",
    "    for i in range(n - 1, -1, -1):\n",
    "        sum = digits[i] + carry\n",
    "        digits[i] = sum % 10\n",
    "        carry = sum // 10\n",
    "    \n",
    "    if carry > 0:\n",
    "        digits.insert(0, carry)\n",
    "    \n",
    "    return digits\n",
    "\n",
    "# Example usage\n",
    "digits = [1, 2, 3]\n",
    "result = plusOne(digits)\n",
    "print(result)  # Output: [1, 2, 4]\n"
   ]
  },
  {
   "cell_type": "code",
   "execution_count": null,
   "id": "4faa1ecb-a389-47b8-8d15-e392fe36c6dd",
   "metadata": {},
   "outputs": [],
   "source": []
  },
  {
   "cell_type": "markdown",
   "id": "f3c76f1a-1f04-42ac-845d-2130bbeb906a",
   "metadata": {},
   "source": [
    "Q5) You are given two integer arrays nums1 and nums2, sorted in non-decreasing order, and two integers m and n, representing the number of elements in nums1 and nums2 respectively.\n",
    "\n",
    "Merge nums1 and nums2 into a single array sorted in non-decreasing order.\n",
    "\n",
    "The final sorted array should not be returned by the function, but instead be stored inside the array nums1. To accommodate this, nums1 has a length of m + n, where the first m elements denote the elements that should be merged, and the last n elements are set to 0 and should be ignored. nums2 has a length of n.\n",
    "\n",
    "**Example 1:**\n",
    "Input: nums1 = [1,2,3,0,0,0], m = 3, nums2 = [2,5,6], n = 3\n",
    "Output: [1,2,2,3,5,6]\n",
    "\n",
    "**Explanation:** The arrays we are merging are [1,2,3] and [2,5,6].\n",
    "The result of the merge is [1,2,2,3,5,6] with the underlined elements coming from nums1.\n"
   ]
  },
  {
   "cell_type": "markdown",
   "id": "b579a069-b400-4d3e-a6e9-169048db156f",
   "metadata": {},
   "source": [
    "To merge two sorted arrays nums1 and nums2 into nums1 in non-decreasing order, we can utilize a two-pointer approach. Since nums1 has extra space at the end to accommodate the merged elements, we can start comparing the elements from the end of both arrays and place the larger element at the end of nums1. We continue this process until we have merged all the elements from nums2 into nums1\n",
    "In this implementation, we iterate through both arrays simultaneously from the end, so the time complexity is O(m + n), where m and n are the lengths of nums1 and nums2, respectively. The space complexity is O(1) since we are modifying nums1 in-place without using any additional space proportional to the input size."
   ]
  },
  {
   "cell_type": "code",
   "execution_count": 22,
   "id": "693f9efa-83d3-45eb-908e-7e83165a7208",
   "metadata": {},
   "outputs": [
    {
     "name": "stdout",
     "output_type": "stream",
     "text": [
      "[1, 2, 2, 3, 5, 6]\n"
     ]
    }
   ],
   "source": [
    "# ANSWER : \n",
    "def merge(nums1, m, nums2, n):\n",
    "    i = m - 1  \n",
    "    j = n - 1  \n",
    "    k = m + n - 1  \n",
    "    \n",
    "    while i >= 0 and j >= 0:\n",
    "        if nums1[i] > nums2[j]:\n",
    "            nums1[k] = nums1[i]\n",
    "            i -= 1\n",
    "        else:\n",
    "            nums1[k] = nums2[j]\n",
    "            j -= 1\n",
    "        k -= 1\n",
    "    \n",
    "   \n",
    "    while j >= 0:\n",
    "        nums1[k] = nums2[j]\n",
    "        j -= 1\n",
    "        k -= 1\n",
    "\n",
    "# Example usage\n",
    "nums1 = [1, 2, 3, 0, 0, 0]\n",
    "m = 3\n",
    "nums2 = [2, 5, 6]\n",
    "n = 3\n",
    "merge(nums1, m, nums2, n)\n",
    "print(nums1)  # Output: [1, 2, 2, 3, 5, 6]\n"
   ]
  },
  {
   "cell_type": "code",
   "execution_count": null,
   "id": "94df2922-b23f-440c-84df-1d4b9edc2204",
   "metadata": {},
   "outputs": [],
   "source": []
  },
  {
   "cell_type": "markdown",
   "id": "8e32b2f4-cee5-4a2c-bf5e-aa5d53a2df6a",
   "metadata": {},
   "source": [
    "Q6) Given an integer array nums, return true if any value appears at least twice in the array, and return false if every element is distinct.\n",
    "\n",
    "**Example 1:**\n",
    "Input: nums = [1,2,3,1]\n",
    "\n",
    "Output: true\n"
   ]
  },
  {
   "cell_type": "markdown",
   "id": "33147bfc-a4bd-4a8d-9729-1fccbce07ed1",
   "metadata": {},
   "source": [
    "To determine if any value appears at least twice in the given integer array nums, we can use a hash set to keep track of the unique values we have encountered so far. As we iterate through the array, we check if each element is already present in the set. If it is, we return True because it indicates a duplicate value. If we reach the end of the array without finding any duplicates, we return False\n",
    "In this implementation, we iterate through the array once, so the time complexity is O(n), where n is the length of the input array nums. The space complexity is also O(n) because, in the worst case, we may need to store all the elements of nums in the set."
   ]
  },
  {
   "cell_type": "code",
   "execution_count": 21,
   "id": "7f1687c0-196b-49f7-be00-d0d24ea585e7",
   "metadata": {},
   "outputs": [
    {
     "name": "stdout",
     "output_type": "stream",
     "text": [
      "True\n"
     ]
    }
   ],
   "source": [
    "#ANSWER \n",
    "def containsDuplicate(nums):\n",
    "    seen = set()\n",
    "    \n",
    "    for num in nums:\n",
    "        if num in seen:\n",
    "            return True\n",
    "        seen.add(num)\n",
    "    \n",
    "    return False\n",
    "\n",
    "# Example usage\n",
    "nums = [1, 2, 3, 1]\n",
    "result = containsDuplicate(nums)\n",
    "print(result)  # Output: True\n"
   ]
  },
  {
   "cell_type": "code",
   "execution_count": null,
   "id": "9d57d88b-3023-4944-aed9-14e8aae6a9ff",
   "metadata": {},
   "outputs": [],
   "source": []
  },
  {
   "cell_type": "markdown",
   "id": "7c9f349c-6f30-4fbd-add2-05745eca5685",
   "metadata": {},
   "source": [
    "Q7) Given an integer array nums, move all 0's to the end of it while maintaining the relative order of the nonzero elements.\n",
    "\n",
    "Note that you must do this in-place without making a copy of the array.\n",
    "\n",
    "**Example 1:**\n",
    "Input: nums = [0,1,0,3,12]\n",
    "Output: [1,3,12,0,0]\n"
   ]
  },
  {
   "cell_type": "markdown",
   "id": "cd2b2182-89d5-4c0f-b865-b428a6900a4c",
   "metadata": {},
   "source": [
    "To move all the zeros to the end of the integer array nums while maintaining the relative order of the non-zero elements, we can utilize a two-pointer approach. We initialize two pointers, left and right, both pointing to the start of the array. We iterate through the array with the right pointer, and whenever we encounter a non-zero element, we swap it with the element at the left pointer and increment both pointers. By doing this, we ensure that all non-zero elements are placed before the zeros, and the relative order is maintained. Finally, all remaining elements after the left pointer can be set to zero.\n",
    "In this implementation, we iterate through the array once, so the time complexity is O(n), where n is the length of the input array nums. The space complexity is O(1) since we are modifying nums in-place without using any additional space proportional to the input size."
   ]
  },
  {
   "cell_type": "code",
   "execution_count": 20,
   "id": "b2ec93b9-1cf9-4cc3-8dd9-c21beb48f146",
   "metadata": {},
   "outputs": [
    {
     "name": "stdout",
     "output_type": "stream",
     "text": [
      "[1, 3, 12, 0, 0]\n"
     ]
    }
   ],
   "source": [
    "#ANSWER :\n",
    "def moveZeroes(nums):\n",
    "    left = 0\n",
    "    right = 0\n",
    "    \n",
    "    while right < len(nums):\n",
    "        if nums[right] != 0:\n",
    "            nums[left], nums[right] = nums[right], nums[left]\n",
    "            left += 1\n",
    "        right += 1\n",
    "    \n",
    "    while left < len(nums):\n",
    "        nums[left] = 0\n",
    "        left += 1\n",
    "\n",
    "# Example usage\n",
    "nums = [0, 1, 0, 3, 12]\n",
    "moveZeroes(nums)\n",
    "print(nums)  # Output: [1, 3, 12, 0, 0]\n"
   ]
  },
  {
   "cell_type": "code",
   "execution_count": null,
   "id": "7b9c0bae-e15c-48cc-b8a9-e5c5d33599d0",
   "metadata": {},
   "outputs": [],
   "source": []
  },
  {
   "cell_type": "markdown",
   "id": "0a64e185-ace9-48a9-8302-063efb6b6301",
   "metadata": {},
   "source": [
    "Q8) You have a set of integers s, which originally contains all the numbers from 1 to n. Unfortunately, due to some error, one of the numbers in s got duplicated to another number in the set, which results in repetition of one number and loss of another number.\n",
    "\n",
    "You are given an integer array nums representing the data status of this set after the error.\n",
    "\n",
    "Find the number that occurs twice and the number that is missing and return them in the form of an array.\n",
    "\n",
    "**Example 1:**\n",
    "Input: nums = [1,2,2,4]\n",
    "Output: [2,3]\n",
    "\n"
   ]
  },
  {
   "cell_type": "markdown",
   "id": "19805c06-042c-4832-82b9-db6d563c8b5f",
   "metadata": {},
   "source": [
    "To find the number that occurs twice and the number that is missing in the given integer array nums, we can utilize a few different approaches.\n",
    "\n",
    "One approach is to use a hash set to keep track of the numbers we have encountered. We iterate through the array, and for each element, we check if it is already present in the set. If it is, we have found the duplicate number. Otherwise, we add it to the set. After iterating through the array, we can determine the missing number by comparing the set's size to the expected size, which is n, the length of nums\n"
   ]
  },
  {
   "cell_type": "code",
   "execution_count": 19,
   "id": "c9dae642-8e22-48ae-a670-73d9724ad5e6",
   "metadata": {},
   "outputs": [
    {
     "name": "stdout",
     "output_type": "stream",
     "text": [
      "[2, 3]\n"
     ]
    }
   ],
   "source": [
    "def findErrorNums(nums):\n",
    "    n = len(nums)\n",
    "    num_set = set()\n",
    "    duplicate = -1\n",
    "    \n",
    "    for num in nums:\n",
    "        if num in num_set:\n",
    "            duplicate = num\n",
    "        num_set.add(num)\n",
    "    \n",
    "    missing = sum(range(1, n+1)) - sum(nums) + duplicate\n",
    "    \n",
    "    return [duplicate, missing]\n",
    "\n",
    "# Example usage\n",
    "nums = [1, 2, 2, 4]\n",
    "result = findErrorNums(nums)\n",
    "print(result)  # Output: [2, 3]\n"
   ]
  },
  {
   "cell_type": "code",
   "execution_count": null,
   "id": "29c246ed-8216-4845-9679-f43ce9bdcc70",
   "metadata": {},
   "outputs": [],
   "source": []
  }
 ],
 "metadata": {
  "kernelspec": {
   "display_name": "Python 3 (ipykernel)",
   "language": "python",
   "name": "python3"
  },
  "language_info": {
   "codemirror_mode": {
    "name": "ipython",
    "version": 3
   },
   "file_extension": ".py",
   "mimetype": "text/x-python",
   "name": "python",
   "nbconvert_exporter": "python",
   "pygments_lexer": "ipython3",
   "version": "3.10.8"
  }
 },
 "nbformat": 4,
 "nbformat_minor": 5
}
